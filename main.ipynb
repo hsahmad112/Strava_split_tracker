{
 "cells": [
  {
   "cell_type": "code",
   "execution_count": null,
   "metadata": {},
   "outputs": [],
   "source": [
    "import os\n",
    "import requests\n",
    "import webbrowser\n",
    "import http.server\n",
    "import socketserver\n",
    "from urllib.parse import urlparse, parse_qs\n",
    "from dotenv import load_dotenv\n",
    "import seaborn as sns\n",
    "import matplotlib.pyplot as plt\n",
    "import pandas as pd\n",
    "\n",
    "\n",
    "load_dotenv()\n",
    "\n",
    "CLIENT_ID = os.getenv('CLIENT_ID')\n",
    "CLIENT_SECRET = os.getenv('CLIENT_SECRET')\n",
    "REDIRECT_URI = os.getenv('REDIRECT_URI')\n",
    "\n",
    "\n",
    "BASE_URL = 'https://www.strava.com/api/v3/'\n",
    "# Strava API endpoints\n",
    "AUTHORIZATION_URL = f'{BASE_URL}oauth/authorize'\n",
    "TOKEN_URL = f'{BASE_URL}oauth/token'\n",
    "ACTIVITIES_URL = f'{BASE_URL}activities'\n",
    "\n",
    "\n",
    "def get_access_token(code):\n",
    "    \"\"\"takes auth token code, returns access token.\"\"\"\n",
    "    \n",
    "    token_body = {\n",
    "        'client_id': CLIENT_ID,\n",
    "        'client_secret': CLIENT_SECRET,\n",
    "        'code': code,\n",
    "        'grant_type': 'authorization_code'\n",
    "    }\n",
    "\n",
    "    token_response = requests.post(TOKEN_URL, data=token_body).json()\n",
    "    print(token_response)\n",
    "    return token_response.get('access_token')\n",
    "\n",
    "def get_activities(access_token):\n",
    "    \"\"\"Returns activities, takes access_token.\"\"\"\n",
    "    \n",
    "    params = {\n",
    "        'per_page': 30\n",
    "    }\n",
    "    headers = {\n",
    "        'accept': 'application/json',\n",
    "        'authorization': f'Bearer {access_token}'\n",
    "    }\n",
    "    activities_response = requests.get(ACTIVITIES_URL, headers=headers, params=params)\n",
    "    print(activities_response)\n",
    "    if activities_response.status_code == 200:\n",
    "        return activities_response.json()\n",
    "    else:\n",
    "        print(f\"Request failed. Status code {activities_response.status_code}\")\n",
    "        return None\n",
    "\n",
    "def handle_oauth_callback(path):\n",
    "    \"\"\"Handles the OAuth2 callback using method get_acccess_token.\"\"\"\n",
    "    #retrieving params from url\n",
    "    #https://stackoverflow.com/questions/5074803/retrieving-parameters-from-a-url\n",
    "    parsed_url = urlparse(path)\n",
    "    query_params = parse_qs(parsed_url.query)\n",
    "    code = query_params.get('code', [None])[0]\n",
    "\n",
    "    if code:\n",
    "        access_token = get_access_token(code)\n",
    "        if access_token:\n",
    "\n",
    "            activities_data = get_activities(access_token)\n",
    "            if activities_data:\n",
    "                print('Recieved activity data')\n",
    "                convert_and_save_activity(activities_data)\n",
    "            return (200, 'Authorization successful.')\n",
    "        else:\n",
    "            return (400, 'Failed to exchange code for token.')\n",
    "    else:\n",
    "        return (400, 'Authorization failed.')\n",
    "    \n",
    "\n",
    "def convert_and_save_activity(activities_data):\n",
    "    print(activities_data)\n",
    "    df = pd.json_normalize(activities_data)\n",
    "    csv_file_path = 'activities.csv'\n",
    "    df.to_csv(csv_file_path, index=False)\n",
    "    print(f\"DataFrame saved to {csv_file_path}\")\n",
    "    return df"
   ]
  },
  {
   "cell_type": "code",
   "execution_count": null,
   "metadata": {},
   "outputs": [],
   "source": [
    "#Redirect the user to the Strava authorization URL\n",
    "authorization_url = f\"{AUTHORIZATION_URL}?client_id={CLIENT_ID}&redirect_uri={REDIRECT_URI}&response_type=code&scope=activity:read\"\n",
    "print(\"Opening authorization URL in web browser...\")\n",
    "webbrowser.open(authorization_url)\n",
    "\n",
    "# Step 2: Handle the callback using a simple HTTP server\n",
    "class SimpleHTTPRequestHandler(http.server.SimpleHTTPRequestHandler):\n",
    "    def do_GET(self):\n",
    "        status_code, message = handle_oauth_callback(self.path)\n",
    "        self.send_response(status_code)\n",
    "        self.send_header('Content-type', 'text/html')\n",
    "        self.end_headers()\n",
    "        self.wfile.write(message.encode('utf-8'))\n",
    "# \n",
    "# Start the HTTP server to handle the callback\n",
    "PORT = 5000\n",
    "with socketserver.TCPServer((\"\", PORT), SimpleHTTPRequestHandler) as httpd:\n",
    "    print(f\"Serving on port {PORT}\")\n",
    "    httpd.handle_request()"
   ]
  },
  {
   "cell_type": "code",
   "execution_count": null,
   "metadata": {},
   "outputs": [],
   "source": [
    "act  = pd.read_csv('activities.csv')\n",
    "test = act[['start_date', 'distance']]\n"
   ]
  },
  {
   "cell_type": "code",
   "execution_count": null,
   "metadata": {},
   "outputs": [],
   "source": [
    "test['start_date']= pd.to_datetime(act['start_date'])\n",
    "test['start_date'] = test['start_date'].dt.date\n",
    "test = test.sort_values(by=['start_date'], ascending=True)"
   ]
  },
  {
   "cell_type": "code",
   "execution_count": null,
   "metadata": {},
   "outputs": [],
   "source": [
    "sns.barplot(data=test, x='start_date', y='distance')\n",
    "\n",
    "plt.title('Bar Plot of Activity Distances')\n",
    "plt.xlabel('Activity Name')\n",
    "plt.ylabel('Distance (meters)')\n",
    "plt.xticks(rotation=45)\n",
    "\n",
    "plt.show()"
   ]
  },
  {
   "cell_type": "code",
   "execution_count": null,
   "metadata": {},
   "outputs": [],
   "source": [
    "run = act[['start_date', 'average_speed', 'max_speed']]\n",
    "\n",
    "run"
   ]
  },
  {
   "cell_type": "code",
   "execution_count": null,
   "metadata": {},
   "outputs": [],
   "source": [
    "act.info()"
   ]
  }
 ],
 "metadata": {
  "kernelspec": {
   "display_name": "venv",
   "language": "python",
   "name": "python3"
  },
  "language_info": {
   "codemirror_mode": {
    "name": "ipython",
    "version": 3
   },
   "file_extension": ".py",
   "mimetype": "text/x-python",
   "name": "python",
   "nbconvert_exporter": "python",
   "pygments_lexer": "ipython3",
   "version": "3.12.0"
  }
 },
 "nbformat": 4,
 "nbformat_minor": 2
}
